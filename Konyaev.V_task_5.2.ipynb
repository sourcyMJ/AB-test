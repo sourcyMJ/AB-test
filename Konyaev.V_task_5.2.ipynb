{
 "cells": [
  {
   "cell_type": "markdown",
   "id": "c1d61c17",
   "metadata": {},
   "source": [
    "## A/B test results analysis."
   ]
  },
  {
   "cell_type": "markdown",
   "id": "680c3a94",
   "metadata": {},
   "source": [
    "It is necessary to analyze the results of an experiment that was conducted **from 2023-03-02 to 2023-03-08 inclusive. Groups '2' and '1' were used for the experiment.**\n",
    "\n",
    "In experimental group '2', one of the new algorithms for recommending posts was used, group '1' was used as a control.\n",
    "\n",
    "The main hypothesis is that the new algorithm in the 2nd group will lead to an increase in CTR metric."
   ]
  },
  {
   "cell_type": "markdown",
   "id": "1206b64a",
   "metadata": {},
   "source": [
    "### The purpose of the study"
   ]
  },
  {
   "cell_type": "markdown",
   "id": "19518753-e6fd-476f-b8e0-548d91ed0155",
   "metadata": {},
   "source": [
    "- To choose an analysis method and compare CTR between two groups\n",
    "\n",
    "- To compare the data with these test\n",
    "\n",
    "- To work out a recommendation whether it is reasonable to roll out a new algorithm to all new users or not."
   ]
  },
  {
   "cell_type": "markdown",
   "id": "84c9d882",
   "metadata": {},
   "source": [
    "### Data overview"
   ]
  },
  {
   "cell_type": "markdown",
   "id": "768e64af",
   "metadata": {},
   "source": [
    "- It is defined that providing A/B test from '2023-03-02' to '2023-03-08' would be enough to gain statistically significant results\n",
    "- Experimental groups '2' and '1' were chosen for this test"
   ]
  },
  {
   "cell_type": "markdown",
   "id": "a365713e",
   "metadata": {},
   "source": [
    "### Research plan"
   ]
  },
  {
   "cell_type": "markdown",
   "id": "377db942",
   "metadata": {},
   "source": [
    "Data about users' activity is presented in Clickhouse. Therefore, it is needed to set the connection and write a query to import data. \n",
    "\n",
    "It is known that quality of data is good and it doesn't require preprocessing before analysis.\n",
    "\n",
    "Thus, the study will go in several stages:\n",
    "\n",
    "- Data import\n",
    "- Visual data analysis\n",
    "- Chosing analysis method"
   ]
  },
  {
   "cell_type": "markdown",
   "id": "0888db82-f834-4f91-9436-a2fd6da4e921",
   "metadata": {},
   "source": [
    "Firstly we need to import all necessary libraries:"
   ]
  },
  {
   "cell_type": "code",
   "execution_count": 16,
   "id": "05a7e421-7a58-4069-8cc7-8e9348e82443",
   "metadata": {},
   "outputs": [],
   "source": [
    "import pandas as pd\n",
    "import pandahouse as ph\n",
    "import numpy as np\n",
    "import seaborn as sns\n",
    "from scipy import stats\n",
    "import matplotlib.pyplot as plt"
   ]
  },
  {
   "cell_type": "markdown",
   "id": "f02a89fc",
   "metadata": {},
   "source": [
    "After that it is needed to set up a connection to Clickhouse:"
   ]
  },
  {
   "cell_type": "code",
   "execution_count": 17,
   "id": "4a3406ac-141e-4423-ae32-b59be52028f3",
   "metadata": {},
   "outputs": [],
   "source": [
    "connection = {'host': 'https://clickhouse.lab.karpov.courses',\n",
    "              'database': 'simulator_20230320',\n",
    "              'user':'student',\n",
    "              'password':'dpo_python_2020'\n",
    "             }"
   ]
  },
  {
   "cell_type": "markdown",
   "id": "cf0a3e1b",
   "metadata": {},
   "source": [
    "And write a relevant query"
   ]
  },
  {
   "cell_type": "code",
   "execution_count": 18,
   "id": "98596c3d-969f-4254-819d-a2252bae3316",
   "metadata": {},
   "outputs": [],
   "source": [
    "q = \"\"\"\n",
    "SELECT exp_group, \n",
    "    user_id,\n",
    "    sum(action = 'like') as likes,\n",
    "    sum(action = 'view') as views,\n",
    "    likes/views as ctr\n",
    "FROM {db}.feed_actions \n",
    "WHERE toDate(time) between '2023-03-02' and '2023-03-08'\n",
    "    and exp_group in (1,2)\n",
    "GROUP BY exp_group, user_id\n",
    "\"\"\""
   ]
  },
  {
   "cell_type": "markdown",
   "id": "7a8c159b",
   "metadata": {},
   "source": [
    "After that request for data can be executed"
   ]
  },
  {
   "cell_type": "code",
   "execution_count": 19,
   "id": "74040d68",
   "metadata": {},
   "outputs": [],
   "source": [
    "df = ph.read_clickhouse(q, connection=connection)"
   ]
  },
  {
   "cell_type": "markdown",
   "id": "577bffd5-cee5-4d49-b311-51a8d47dd5ec",
   "metadata": {},
   "source": [
    "Let's study the distribution visually:"
   ]
  },
  {
   "cell_type": "code",
   "execution_count": 20,
   "id": "bf27ee32",
   "metadata": {},
   "outputs": [
    {
     "data": {
      "image/png": "[encoded data removed]",
      "text/plain": [
       "<Figure size 640x480 with 1 Axes>"
      ]
     },
     "metadata": {},
     "output_type": "display_data"
    }
   ],
   "source": [
    "groups = sns.histplot(data = df, \n",
    "              x='ctr', \n",
    "              hue='exp_group', \n",
    "              palette = ['r', 'b'],\n",
    "              alpha=0.5,\n",
    "              kde=False)"
   ]
  },
  {
   "cell_type": "markdown",
   "id": "41de1862-f9f6-418f-b7ce-8ac0d1c9eb87",
   "metadata": {},
   "source": [
    "It can be seen that the test sample has a bimodal distribution of the CTR indicator, which means that the results of the t-test may be incorrect. Instead, the Mann-Whitney test and Median bootstrap will be conducted."
   ]
  },
  {
   "cell_type": "markdown",
   "id": "13b4d356-a942-4478-bfa2-e996acb8bbc0",
   "metadata": {},
   "source": [
    "The reason for the appearance of such a distribution may be a factor that may have made a selection according to some criterion for 2 subsamples with different audiences (etc.: gender / operating system / source). In this case, one of the subsamples might not like the recommendations presented by the new system."
   ]
  },
  {
   "cell_type": "code",
   "execution_count": 21,
   "id": "6fe56885-0c15-4691-b045-2b278e451a65",
   "metadata": {},
   "outputs": [],
   "source": [
    "mwhitney = stats.mannwhitneyu(df[df['exp_group']==1].ctr, df[df['exp_group']==2].ctr)"
   ]
  },
  {
   "cell_type": "code",
   "execution_count": 22,
   "id": "e86eee15-4b3a-4d9d-bc98-3705c5ca3929",
   "metadata": {},
   "outputs": [
    {
     "data": {
      "text/plain": [
       "MannwhitneyuResult(statistic=56601260.5, pvalue=6.0376484617779035e-56)"
      ]
     },
     "execution_count": 22,
     "metadata": {},
     "output_type": "execute_result"
    }
   ],
   "source": [
    "mwhitney"
   ]
  },
  {
   "cell_type": "markdown",
   "id": "a42cafd0-bba2-48ef-b968-9de373491e99",
   "metadata": {},
   "source": [
    "We see that the p-value according to the results of the Mann-Whitney test is below the significance level (assumed at 0.05), which means that the probability of obtaining such or even more significant difference between the two samples is very small, which allows us to reject the null hypothesis about the absence of differences."
   ]
  },
  {
   "cell_type": "markdown",
   "id": "b57d409f-611e-44c7-b5e8-1d199be8f578",
   "metadata": {},
   "source": [
    "### Poisson Bootstrap"
   ]
  },
  {
   "cell_type": "code",
   "execution_count": 23,
   "id": "1a970ad4-4c4e-45c4-91d7-f82f67535e85",
   "metadata": {},
   "outputs": [],
   "source": [
    "def poisson_bootstrap(likes1, views1, likes2, views2, n_bootstrap=2000) -> tuple:\n",
    "\n",
    "    poisson_bootstraps1 = stats.poisson(1).rvs((n_bootstrap, len(likes1))).astype(np.int64)\n",
    "    poisson_bootstraps2 = stats.poisson(1).rvs((n_bootstrap, len(likes2))).astype(np.int64)\n",
    "    globalCTR1 = (poisson_bootstraps1*likes1).sum(axis=1)/(poisson_bootstraps1*views1).sum(axis=1)\n",
    "    globalCTR2 = (poisson_bootstraps2*likes2).sum(axis=1)/(poisson_bootstraps2*views2).sum(axis=1)\n",
    "    return globalCTR1, globalCTR2\n",
    "\n",
    "# Control\n",
    "likes1 = df[df.exp_group == 1].likes.to_numpy()\n",
    "views1 = df[df.exp_group == 1].views.to_numpy()\n",
    "# Test\n",
    "likes2 = df[df.exp_group == 2].likes.to_numpy()\n",
    "views2 = df[df.exp_group == 2].views.to_numpy()\n",
    "\n",
    "\n",
    "ctr_control, ctr_test = poisson_bootstrap(likes1, views1, likes2, views2)"
   ]
  },
  {
   "cell_type": "code",
   "execution_count": 24,
   "id": "e35cbe25-6dd4-4ff0-ad07-f3c7b92fba20",
   "metadata": {},
   "outputs": [
    {
     "data": {
      "text/plain": [
       "<AxesSubplot:ylabel='Count'>"
      ]
     },
     "execution_count": 24,
     "metadata": {},
     "output_type": "execute_result"
    },
    {
     "data": {
      "image/png": "[encoded data removed]",
      "text/plain": [
       "<Figure size 640x480 with 1 Axes>"
      ]
     },
     "metadata": {},
     "output_type": "display_data"
    }
   ],
   "source": [
    "sns.histplot(data=ctr_control, color='grey', kde=False)\n",
    "sns.histplot(data=ctr_test,    color='r',    kde=False)"
   ]
  },
  {
   "cell_type": "code",
   "execution_count": 25,
   "id": "524c1e41-6fd9-4ca6-9226-03550bb140a1",
   "metadata": {},
   "outputs": [
    {
     "data": {
      "text/plain": [
       "<AxesSubplot:ylabel='Count'>"
      ]
     },
     "execution_count": 25,
     "metadata": {},
     "output_type": "execute_result"
    },
    {
     "data": {
      "image/png": "[encoded data removed]",
      "text/plain": [
       "<Figure size 640x480 with 1 Axes>"
      ]
     },
     "metadata": {},
     "output_type": "display_data"
    }
   ],
   "source": [
    "sns.histplot(ctr_test - ctr_control, kde=False)"
   ]
  },
  {
   "cell_type": "markdown",
   "id": "72ed10b0-4d12-4208-8c80-b58c1646c4e6",
   "metadata": {},
   "source": [
    "### Bucket conversion"
   ]
  },
  {
   "cell_type": "code",
   "execution_count": 26,
   "id": "6c4b2120-5382-45ca-8b9e-8808b27bdd79",
   "metadata": {},
   "outputs": [],
   "source": [
    "q = \"\"\"\n",
    "select\n",
    "    exp_group, \n",
    "    bucket,\n",
    "    sum(likes)/sum(views) as bucket_ctr,\n",
    "    quantileExact(0.9)(ctr) as ctr_9\n",
    "from (\n",
    "    select\n",
    "        exp_group, \n",
    "        xxHash64(user_id)%50 as bucket,\n",
    "        user_id,\n",
    "        sum(action = 'like') as likes,\n",
    "        sum(action = 'view') as views,\n",
    "        likes/views as ctr\n",
    "    from {db}.feed_actions \n",
    "    where \n",
    "        toDate(time) >= '2023-03-02'\n",
    "    and toDate(time) <= '2023-03-09'\n",
    "    and exp_group in (1,2)\n",
    "    group by\n",
    "        exp_group, \n",
    "        bucket, \n",
    "        user_id\n",
    ")\n",
    "group by \n",
    "    exp_group, \n",
    "    bucket\n",
    "\"\"\"\n",
    "df = ph.read_clickhouse(q, connection=connection)"
   ]
  },
  {
   "cell_type": "code",
   "execution_count": 28,
   "id": "ac34b266-b261-41be-95b4-5966086d55a8",
   "metadata": {},
   "outputs": [
    {
     "name": "stdout",
     "output_type": "stream",
     "text": [
      "Mean values comparance\n",
      "T-test (pvalue): 1.4596015329482579e-06\n",
      "U-test (pvalue): 7.045566667668902e-07\n",
      "\n",
      "quantiles comparance\n",
      "T-test (pvalue): 5.566224101504785e-39\n",
      "U-test (pvalue): 6.807696809632693e-18\n"
     ]
    }
   ],
   "source": [
    "# mean values comparance\n",
    "bucket_ttest_mean = stats.ttest_ind(\n",
    "                    df[df.exp_group == 1].bucket_ctr, \n",
    "                    df[df.exp_group == 2].bucket_ctr, \n",
    "                    equal_var = False)\n",
    "bucket_mw_mean = stats.mannwhitneyu(\n",
    "                    df[df.exp_group == 1].bucket_ctr, \n",
    "                    df[df.exp_group == 2].bucket_ctr, \n",
    "                    alternative = 'two-sided')\n",
    "\n",
    "\n",
    "# quantiles comparance\n",
    "bucket_ttest_quantile = stats.ttest_ind(\n",
    "                            df[df.exp_group == 1].ctr_9, \n",
    "                            df[df.exp_group == 2].ctr_9, \n",
    "                            equal_var = False)\n",
    "bucket_mw_quantile    = stats.mannwhitneyu(\n",
    "                            df[df.exp_group == 1].ctr_9, \n",
    "                            df[df.exp_group == 2].ctr_9, \n",
    "                            alternative = 'two-sided')\n",
    "\n",
    "\n",
    "print(\"Mean values comparance\")\n",
    "print(\"T-test (pvalue):\", bucket_ttest_mean.pvalue)\n",
    "print(\"U-test (pvalue):\", bucket_mw_mean.pvalue)\n",
    "print()\n",
    "print(\"quantiles comparance\")\n",
    "print(\"T-test (pvalue):\", bucket_ttest_quantile.pvalue)\n",
    "print(\"U-test (pvalue):\", bucket_mw_quantile.pvalue)"
   ]
  },
  {
   "cell_type": "markdown",
   "id": "f8e88728-1863-41aa-a9a9-ceed48ccad39",
   "metadata": {},
   "source": [
    "### The result of the study"
   ]
  },
  {
   "cell_type": "markdown",
   "id": "9059b900-1f1d-4e89-9f1d-7e3787463bc5",
   "metadata": {},
   "source": [
    "The new algorithm has an impact on the target indicator, but due to the separation of users on an indefinite basis, it can be seen that the value of the target indicator for the resulting subgroups is different. The average user CTR for both subgroups decreased relative to the control group.\n",
    "Thus, it is necessary to figure out what caused the segregation of users and eliminate it. Until then, the new algorithm cannot be applied."
   ]
  }
 ],
 "metadata": {
  "kernelspec": {
   "display_name": "Python 3 (ipykernel)",
   "language": "python",
   "name": "python3"
  },
  "language_info": {
   "codemirror_mode": {
    "name": "ipython",
    "version": 3
   },
   "file_extension": ".py",
   "mimetype": "text/x-python",
   "name": "python",
   "nbconvert_exporter": "python",
   "pygments_lexer": "ipython3",
   "version": "3.9.7"
  },
  "toc": {
   "base_numbering": 1,
   "nav_menu": {},
   "number_sections": true,
   "sideBar": true,
   "skip_h1_title": true,
   "title_cell": "Table of Contents",
   "title_sidebar": "Contents",
   "toc_cell": false,
   "toc_position": {},
   "toc_section_display": true,
   "toc_window_display": true
  }
 },
 "nbformat": 4,
 "nbformat_minor": 5
}
