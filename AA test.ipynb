{
 "cells": [
  {
   "cell_type": "markdown",
   "id": "5365e52f",
   "metadata": {},
   "source": [
    "## Task"
   ]
  },
  {
   "cell_type": "markdown",
   "id": "f04b0b2e",
   "metadata": {},
   "source": [
    "There is a need to provide statistically proved analysis that will test proposed hypothesis. Basing on results of this analysis it is required to provide recommendations for further implementation of new algorithm for some social network."
   ]
  },
  {
   "cell_type": "markdown",
   "id": "9fbf9773",
   "metadata": {},
   "source": [
    "## Project description:"
   ]
  },
  {
   "cell_type": "markdown",
   "id": "cdd905c8",
   "metadata": {},
   "source": [
    "There is a log of events of news feed of some social network. Data science team developed a new algorithm that, they think, will increase CTR (number of likes/ number of views) metric."
   ]
  },
  {
   "cell_type": "markdown",
   "id": "2a2346a8",
   "metadata": {},
   "source": [
    "The data is accumulated in the form of an array that looks like following:"
   ]
  },
  {
   "cell_type": "markdown",
   "id": "b59441c0",
   "metadata": {},
   "source": [
    "<img src=\"https://i.ibb.co/pJrwvNR/Screenshot-2023-06-23-at-18-54-23.png\" alt=\"Screenshot-2023-06-23-at-18-54-23\" border=\"0\">"
   ]
  },
  {
   "cell_type": "markdown",
   "id": "4256ac02",
   "metadata": {},
   "source": [
    "Where:\n",
    "\n",
    " - user_id - user's unique id\n",
    " - post_id - shown post's unique id\n",
    " - action - user's action\n",
    " - time - time of action\n",
    " - gender - user's gender\n",
    " - age - age of user\n",
    " - country - country in which user is located\n",
    " - city - city in which user is located\n",
    " - os - operation system installed on user's device\n",
    " - source - type of user's attraction to social network\n",
    " - exp_group - belonging to experimental group for further A/B testing"
   ]
  },
  {
   "cell_type": "markdown",
   "id": "a93b2432",
   "metadata": {},
   "source": [
    "## Stack:"
   ]
  },
  {
   "cell_type": "markdown",
   "id": "447125f2",
   "metadata": {},
   "source": [
    "Python, Pandas, Matplotlib, Statsmodels, ClickHouse(SQL queries)"
   ]
  },
  {
   "cell_type": "markdown",
   "id": "996cc6db",
   "metadata": {},
   "source": [
    "# A/A test"
   ]
  },
  {
   "cell_type": "markdown",
   "id": "c151ba50",
   "metadata": {},
   "source": [
    "Data science team developed a new algorithm that, they think, will increase CTR (number of likes/ number of views) metric.\n",
    "\n",
    "Using Salted Hash method all users were split into 5 groups ('0', '1', '2' ,'3', '4'). Feature of group number was placed in a column named 'exp_group'."
   ]
  },
  {
   "cell_type": "markdown",
   "id": "357ec2fd",
   "metadata": {},
   "source": [
    "## The purpose of the study"
   ]
  },
  {
   "cell_type": "markdown",
   "id": "3135cf95",
   "metadata": {},
   "source": [
    "Before providing the A/B test it is required to check whether users were split correctly between groups for compliance with the following criteria:\n",
    "\n",
    "\n",
    " - the size of groups are approximately the same\n",
    " - key metrics between group are equal\n",
    " \n",
    " \n",
    "Or in other words it is necessary to perform an **A/A test**"
   ]
  },
  {
   "cell_type": "markdown",
   "id": "0c64ee3e",
   "metadata": {},
   "source": [
    "## Data overview"
   ]
  },
  {
   "cell_type": "markdown",
   "id": "048209ab",
   "metadata": {},
   "source": [
    " - It is defined that providing A/A test **from '2023-02-23' to '2023-03-01'**  will give statistically significant results\n",
    " - Experimental **groups '2' and '3'** were chosen for this test"
   ]
  },
  {
   "cell_type": "markdown",
   "id": "b45dfd93",
   "metadata": {},
   "source": [
    "## Research plan"
   ]
  },
  {
   "cell_type": "markdown",
   "id": "b87ec698",
   "metadata": {},
   "source": [
    "Data about users' activity is presented in Clickhouse. Therefore, it is needed to set the connection and write a query to import data. \n",
    "\n",
    "It is known that quality of data is good and it doesn't require preprocessing before analysis.\n",
    "\n",
    "Thus, the study will go in several stages:\n",
    "\n",
    "- Data import\n",
    "- Visual data analysis\n",
    "- A/A tests"
   ]
  },
  {
   "cell_type": "markdown",
   "id": "a479f666",
   "metadata": {},
   "source": [
    "___\n",
    "### Data import\n",
    "___"
   ]
  },
  {
   "cell_type": "markdown",
   "id": "11480b1b",
   "metadata": {},
   "source": [
    "First, let's import all necessary libraries:"
   ]
  },
  {
   "cell_type": "code",
   "execution_count": 5,
   "id": "951a5520-6d3b-410d-895e-16792749d23f",
   "metadata": {},
   "outputs": [],
   "source": [
    "import pandas as pd\n",
    "import pandahouse as ph\n",
    "import numpy as np\n",
    "import seaborn as sns\n",
    "from scipy import stats\n",
    "import matplotlib.pyplot as plt"
   ]
  },
  {
   "cell_type": "markdown",
   "id": "671358ab",
   "metadata": {},
   "source": [
    "Then we need to set up the connection"
   ]
  },
  {
   "cell_type": "code",
   "execution_count": 6,
   "id": "d65770e0-98ab-413f-af2d-042068d511ed",
   "metadata": {},
   "outputs": [],
   "source": [
    "connection = {'host': 'https://clickhouse.lab.karpov.courses',\n",
    "              'database': 'simulator_20230320',\n",
    "              'user':'student',\n",
    "              'password':'dpo_python_2020'\n",
    "             }"
   ]
  },
  {
   "cell_type": "markdown",
   "id": "f289a284",
   "metadata": {},
   "source": [
    "And write a query using SQL syntax. "
   ]
  },
  {
   "cell_type": "code",
   "execution_count": 7,
   "id": "432737ea-82af-4ed5-b767-ee3715751f88",
   "metadata": {},
   "outputs": [],
   "source": [
    "query = '''\n",
    "SELECT  exp_group,\n",
    "        user_id,\n",
    "        sum(action='like') as likes,\n",
    "        sum(action='view') as views,\n",
    "        likes/views as ctr\n",
    "FROM {db}.feed_actions\n",
    "WHERE toDate(time) between '2023-02-23' AND '2023-03-01' AND\n",
    "        exp_group IN (2,3)\n",
    "GROUP BY exp_group, user_id\n",
    "'''"
   ]
  },
  {
   "cell_type": "markdown",
   "id": "c5b551ba",
   "metadata": {},
   "source": [
    "After these manipulations we can import data:"
   ]
  },
  {
   "cell_type": "code",
   "execution_count": 8,
   "id": "a5c1d1a7",
   "metadata": {},
   "outputs": [],
   "source": [
    "df = ph.read_clickhouse(query, connection = connection)"
   ]
  },
  {
   "cell_type": "markdown",
   "id": "67933690",
   "metadata": {},
   "source": [
    "___\n",
    "### Visual data analysis\n",
    "___"
   ]
  },
  {
   "cell_type": "markdown",
   "id": "c6147025",
   "metadata": {},
   "source": [
    "Let's take a look at data"
   ]
  },
  {
   "cell_type": "code",
   "execution_count": 9,
   "id": "12467ec5",
   "metadata": {
    "scrolled": true
   },
   "outputs": [
    {
     "data": {
      "text/html": [
       "<div>\n",
       "<style scoped>\n",
       "    .dataframe tbody tr th:only-of-type {\n",
       "        vertical-align: middle;\n",
       "    }\n",
       "\n",
       "    .dataframe tbody tr th {\n",
       "        vertical-align: top;\n",
       "    }\n",
       "\n",
       "    .dataframe thead th {\n",
       "        text-align: right;\n",
       "    }\n",
       "</style>\n",
       "<table border=\"1\" class=\"dataframe\">\n",
       "  <thead>\n",
       "    <tr style=\"text-align: right;\">\n",
       "      <th></th>\n",
       "      <th>exp_group</th>\n",
       "      <th>user_id</th>\n",
       "      <th>likes</th>\n",
       "      <th>views</th>\n",
       "      <th>ctr</th>\n",
       "    </tr>\n",
       "  </thead>\n",
       "  <tbody>\n",
       "    <tr>\n",
       "      <th>12553</th>\n",
       "      <td>3</td>\n",
       "      <td>115986</td>\n",
       "      <td>30</td>\n",
       "      <td>172</td>\n",
       "      <td>0.174419</td>\n",
       "    </tr>\n",
       "  </tbody>\n",
       "</table>\n",
       "</div>"
      ],
      "text/plain": [
       "       exp_group  user_id  likes  views       ctr\n",
       "12553          3   115986     30    172  0.174419"
      ]
     },
     "execution_count": 9,
     "metadata": {},
     "output_type": "execute_result"
    }
   ],
   "source": [
    "df.sample()"
   ]
  },
  {
   "cell_type": "markdown",
   "id": "b465c414",
   "metadata": {},
   "source": [
    "We can see that dataframe contains column 'ctr'. At a quick glance calculations in this column are performed correctly.\n",
    "\n",
    "Next, we have to make sure that number of users within experimental groups ('exp_group' column) are equal."
   ]
  },
  {
   "cell_type": "code",
   "execution_count": 10,
   "id": "74831746-1429-4faa-b750-5fed28503465",
   "metadata": {
    "scrolled": true
   },
   "outputs": [
    {
     "data": {
      "text/html": [
       "<div>\n",
       "<style scoped>\n",
       "    .dataframe tbody tr th:only-of-type {\n",
       "        vertical-align: middle;\n",
       "    }\n",
       "\n",
       "    .dataframe tbody tr th {\n",
       "        vertical-align: top;\n",
       "    }\n",
       "\n",
       "    .dataframe thead th {\n",
       "        text-align: right;\n",
       "    }\n",
       "</style>\n",
       "<table border=\"1\" class=\"dataframe\">\n",
       "  <thead>\n",
       "    <tr style=\"text-align: right;\">\n",
       "      <th></th>\n",
       "      <th>user_id</th>\n",
       "      <th>likes</th>\n",
       "      <th>views</th>\n",
       "      <th>ctr</th>\n",
       "    </tr>\n",
       "    <tr>\n",
       "      <th>exp_group</th>\n",
       "      <th></th>\n",
       "      <th></th>\n",
       "      <th></th>\n",
       "      <th></th>\n",
       "    </tr>\n",
       "  </thead>\n",
       "  <tbody>\n",
       "    <tr>\n",
       "      <th>2</th>\n",
       "      <td>8480</td>\n",
       "      <td>8480</td>\n",
       "      <td>8480</td>\n",
       "      <td>8480</td>\n",
       "    </tr>\n",
       "    <tr>\n",
       "      <th>3</th>\n",
       "      <td>8569</td>\n",
       "      <td>8569</td>\n",
       "      <td>8569</td>\n",
       "      <td>8569</td>\n",
       "    </tr>\n",
       "  </tbody>\n",
       "</table>\n",
       "</div>"
      ],
      "text/plain": [
       "           user_id  likes  views   ctr\n",
       "exp_group                             \n",
       "2             8480   8480   8480  8480\n",
       "3             8569   8569   8569  8569"
      ]
     },
     "execution_count": 10,
     "metadata": {},
     "output_type": "execute_result"
    }
   ],
   "source": [
    "df.groupby('exp_group').count()"
   ]
  },
  {
   "cell_type": "markdown",
   "id": "783a8a6a",
   "metadata": {},
   "source": [
    "After that we need to make sure of key metric's similarity between groups. Visual comparance will take place first."
   ]
  },
  {
   "cell_type": "code",
   "execution_count": 11,
   "id": "3c0038a7-5ab5-4106-9117-df5eece2d676",
   "metadata": {
    "scrolled": true
   },
   "outputs": [
    {
     "data": {
      "image/png": "[encoded data removed]",
      "text/plain": [
       "<Figure size 640x480 with 1 Axes>"
      ]
     },
     "metadata": {},
     "output_type": "display_data"
    }
   ],
   "source": [
    "groups = sns.histplot(data=df,\n",
    "                      x='ctr',\n",
    "                      hue='exp_group',\n",
    "                      palette=['g', 'b'],\n",
    "                      alpha=0.5,\n",
    "                      kde=False)"
   ]
  },
  {
   "cell_type": "markdown",
   "id": "b514d935",
   "metadata": {},
   "source": [
    "After that overall statistical test between two groups will be provided."
   ]
  },
  {
   "cell_type": "code",
   "execution_count": 20,
   "id": "54019aa2-00ac-4f31-9dcb-992f8ed21c6c",
   "metadata": {
    "scrolled": true
   },
   "outputs": [
    {
     "name": "stdout",
     "output_type": "stream",
     "text": [
      "p-value equals 0.45969873156476293, failed to reject null hypothesis\n"
     ]
    }
   ],
   "source": [
    "alpha = .05\n",
    "ttest = stats.ttest_ind(df[df.exp_group == 2].ctr,\n",
    "                df[df.exp_group == 3].ctr,\n",
    "                equal_var=False)\n",
    "if ttest[1] < alpha:\n",
    "    print(f'p-value equals {ttest[1]}, null hypothesis can be rejected')\n",
    "else:\n",
    "    print(f'p-value equals {ttest[1]}, failed to reject null hypothesis')    "
   ]
  },
  {
   "cell_type": "markdown",
   "id": "d57f5dce",
   "metadata": {},
   "source": [
    "P-value as a result of CTR statistical comparance using *t-test* between groups '2' and '3' exceeds predefind alpha level. This means null hypothesis failed to reject and there is no statistically significant difference between key metric of these two groups."
   ]
  },
  {
   "cell_type": "markdown",
   "id": "9a7a7609",
   "metadata": {},
   "source": [
    "___\n",
    "### A/A test\n",
    "___"
   ]
  },
  {
   "cell_type": "markdown",
   "id": "97a9c998",
   "metadata": {},
   "source": [
    "When conducting an A/A test, it would be great to make sure that our splitting system works correctly, and the key metric does not differ between groups, not only in our A/A test specifically, but also in general.\n",
    "\n",
    "Ideally, it would be great to conduct an infinite number of A/A tests and see how many cases we managed to reject the null hypothesis. If the splitting system works correctly, then statistically significant differences between the two groups would occur only as a result of an accidental false positive. For example, if we reject the null hypothesis provided that p_value < 0.05, then only in about 5% of cases we would have statistically significant results.\n",
    "\n",
    "It is clear that in practice we are unlikely to be able to conduct an infinite number of tests, so we will use a small trick! We will repeatedly extract subsamples from our data, conduct a t-test, and at the end we will see in what percentage of cases we managed to reject the null hypothesis.\n",
    "\n",
    "So, we have A/A test data from '2023-02-23' to '2023-03-01'. We need to make a simulation as if we have conducted 10,000 A/A tests. At each iteration, we will form subsamples without repetition of 500 users from the 2nd and 3rd experimental groups. Then we will compare these subsamples by t-test."
   ]
  },
  {
   "cell_type": "code",
   "execution_count": 13,
   "id": "cf047f54-2720-4034-a25a-9de7c53c114d",
   "metadata": {},
   "outputs": [],
   "source": [
    "# making a list to store p-values\n",
    "p_values = []\n",
    "\n",
    "# running 10000 А/А-tests simulation\n",
    "for i in range(10000):\n",
    "    # picking random 500 users from 2nd and 3rd groups, without repetitions\n",
    "    group2 = df[df.exp_group == 2].sample(n=500, replace=False)\n",
    "    group3 = df[df.exp_group == 3].sample(n=500, replace=False)\n",
    "    \n",
    "    # concatenating subsamples\n",
    "    sample = pd.concat([group2, group3], axis=0)\n",
    "    \n",
    "    # performing t-test\n",
    "    t_stat, p_val = stats.ttest_ind(sample[sample.exp_group == 2].ctr,\n",
    "                              sample[sample.exp_group == 3].ctr,\n",
    "                              equal_var=False)\n",
    "    \n",
    "    # storing p-value to a list\n",
    "    p_values.append(p_val)"
   ]
  },
  {
   "cell_type": "code",
   "execution_count": 14,
   "id": "26c54960-6b61-41fc-9574-10b00d0b006c",
   "metadata": {
    "scrolled": true
   },
   "outputs": [
    {
     "data": {
      "text/html": [
       "<div>\n",
       "<style scoped>\n",
       "    .dataframe tbody tr th:only-of-type {\n",
       "        vertical-align: middle;\n",
       "    }\n",
       "\n",
       "    .dataframe tbody tr th {\n",
       "        vertical-align: top;\n",
       "    }\n",
       "\n",
       "    .dataframe thead th {\n",
       "        text-align: right;\n",
       "    }\n",
       "</style>\n",
       "<table border=\"1\" class=\"dataframe\">\n",
       "  <thead>\n",
       "    <tr style=\"text-align: right;\">\n",
       "      <th></th>\n",
       "      <th>exp_group</th>\n",
       "      <th>user_id</th>\n",
       "      <th>likes</th>\n",
       "      <th>views</th>\n",
       "      <th>ctr</th>\n",
       "    </tr>\n",
       "  </thead>\n",
       "  <tbody>\n",
       "    <tr>\n",
       "      <th>2393</th>\n",
       "      <td>2</td>\n",
       "      <td>117002</td>\n",
       "      <td>24</td>\n",
       "      <td>137</td>\n",
       "      <td>0.175182</td>\n",
       "    </tr>\n",
       "    <tr>\n",
       "      <th>12280</th>\n",
       "      <td>2</td>\n",
       "      <td>123933</td>\n",
       "      <td>10</td>\n",
       "      <td>53</td>\n",
       "      <td>0.188679</td>\n",
       "    </tr>\n",
       "    <tr>\n",
       "      <th>17012</th>\n",
       "      <td>2</td>\n",
       "      <td>115304</td>\n",
       "      <td>23</td>\n",
       "      <td>63</td>\n",
       "      <td>0.365079</td>\n",
       "    </tr>\n",
       "    <tr>\n",
       "      <th>13183</th>\n",
       "      <td>2</td>\n",
       "      <td>17997</td>\n",
       "      <td>6</td>\n",
       "      <td>24</td>\n",
       "      <td>0.250000</td>\n",
       "    </tr>\n",
       "    <tr>\n",
       "      <th>3002</th>\n",
       "      <td>2</td>\n",
       "      <td>131819</td>\n",
       "      <td>9</td>\n",
       "      <td>38</td>\n",
       "      <td>0.236842</td>\n",
       "    </tr>\n",
       "  </tbody>\n",
       "</table>\n",
       "</div>"
      ],
      "text/plain": [
       "       exp_group  user_id  likes  views       ctr\n",
       "2393           2   117002     24    137  0.175182\n",
       "12280          2   123933     10     53  0.188679\n",
       "17012          2   115304     23     63  0.365079\n",
       "13183          2    17997      6     24  0.250000\n",
       "3002           2   131819      9     38  0.236842"
      ]
     },
     "execution_count": 14,
     "metadata": {},
     "output_type": "execute_result"
    }
   ],
   "source": [
    "sample.head()"
   ]
  },
  {
   "cell_type": "markdown",
   "id": "de9a300b",
   "metadata": {},
   "source": [
    "Now let's check if splitting system worked properly:"
   ]
  },
  {
   "cell_type": "code",
   "execution_count": 22,
   "id": "9ac06e65-46bb-4967-9b11-2058d397b1bd",
   "metadata": {
    "scrolled": true
   },
   "outputs": [
    {
     "data": {
      "text/html": [
       "<div>\n",
       "<style scoped>\n",
       "    .dataframe tbody tr th:only-of-type {\n",
       "        vertical-align: middle;\n",
       "    }\n",
       "\n",
       "    .dataframe tbody tr th {\n",
       "        vertical-align: top;\n",
       "    }\n",
       "\n",
       "    .dataframe thead th {\n",
       "        text-align: right;\n",
       "    }\n",
       "</style>\n",
       "<table border=\"1\" class=\"dataframe\">\n",
       "  <thead>\n",
       "    <tr style=\"text-align: right;\">\n",
       "      <th></th>\n",
       "      <th>user_id</th>\n",
       "      <th>likes</th>\n",
       "      <th>views</th>\n",
       "      <th>ctr</th>\n",
       "    </tr>\n",
       "    <tr>\n",
       "      <th>exp_group</th>\n",
       "      <th></th>\n",
       "      <th></th>\n",
       "      <th></th>\n",
       "      <th></th>\n",
       "    </tr>\n",
       "  </thead>\n",
       "  <tbody>\n",
       "    <tr>\n",
       "      <th>2</th>\n",
       "      <td>500</td>\n",
       "      <td>500</td>\n",
       "      <td>500</td>\n",
       "      <td>500</td>\n",
       "    </tr>\n",
       "    <tr>\n",
       "      <th>3</th>\n",
       "      <td>500</td>\n",
       "      <td>500</td>\n",
       "      <td>500</td>\n",
       "      <td>500</td>\n",
       "    </tr>\n",
       "  </tbody>\n",
       "</table>\n",
       "</div>"
      ],
      "text/plain": [
       "           user_id  likes  views  ctr\n",
       "exp_group                            \n",
       "2              500    500    500  500\n",
       "3              500    500    500  500"
      ]
     },
     "execution_count": 22,
     "metadata": {},
     "output_type": "execute_result"
    }
   ],
   "source": [
    "sample.groupby('exp_group').count()"
   ]
  },
  {
   "cell_type": "markdown",
   "id": "517af8c2",
   "metadata": {},
   "source": [
    "And then let's make a hist plot of p-values distribution and count the share of p-values that are less than 0.05"
   ]
  },
  {
   "cell_type": "code",
   "execution_count": 23,
   "id": "42fb3cd8-6153-42f9-8da1-6c29e11a3c4c",
   "metadata": {
    "jp-MarkdownHeadingCollapsed": true,
    "tags": []
   },
   "outputs": [
    {
     "data": {
      "image/png": "[encoded data removed]",
      "text/plain": [
       "<Figure size 640x480 with 1 Axes>"
      ]
     },
     "metadata": {},
     "output_type": "display_data"
    },
    {
     "name": "stdout",
     "output_type": "stream",
     "text": [
      "5.09% of p-values were <= 0.05\n"
     ]
    }
   ],
   "source": [
    "plt.hist(p_values, bins=50)\n",
    "plt.xlabel('p-value')\n",
    "plt.ylabel('Frequency')\n",
    "plt.title('Distribution of p-values')\n",
    "plt.show()\n",
    "\n",
    "p_values = np.array(p_values)\n",
    "pct_significant = round(np.mean(p_values <= 0.05) * 100, 2)\n",
    "print(f'{pct_significant}% of p-values were <= 0.05')"
   ]
  },
  {
   "cell_type": "markdown",
   "id": "ff1478ef-4fb6-463f-a91c-6adb8b282a6b",
   "metadata": {},
   "source": [
    "We can see that **the splitting system worked correctly and the p-value above 0.05, which allows to reject the null hypothesis, appeared only in ~5% of cases, which can be interpreted as random triggers.**"
   ]
  },
  {
   "cell_type": "code",
   "execution_count": null,
   "id": "1d18fd6a",
   "metadata": {},
   "outputs": [],
   "source": []
  }
 ],
 "metadata": {
  "kernelspec": {
   "display_name": "Python 3 (ipykernel)",
   "language": "python",
   "name": "python3"
  },
  "language_info": {
   "codemirror_mode": {
    "name": "ipython",
    "version": 3
   },
   "file_extension": ".py",
   "mimetype": "text/x-python",
   "name": "python",
   "nbconvert_exporter": "python",
   "pygments_lexer": "ipython3",
   "version": "3.9.7"
  },
  "toc": {
   "base_numbering": 1,
   "nav_menu": {},
   "number_sections": true,
   "sideBar": true,
   "skip_h1_title": true,
   "title_cell": "Table of Contents",
   "title_sidebar": "Contents",
   "toc_cell": false,
   "toc_position": {},
   "toc_section_display": true,
   "toc_window_display": true
  }
 },
 "nbformat": 4,
 "nbformat_minor": 5
}
